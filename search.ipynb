{
 "cells": [
  {
   "cell_type": "code",
   "execution_count": 1,
   "metadata": {},
   "outputs": [
    {
     "name": "stdout",
     "output_type": "stream",
     "text": [
      "Requirement already satisfied: sentence-transformers in /Users/nanakwame/miniforge3/envs/pyeleven/lib/python3.11/site-packages (2.2.2)\n",
      "Requirement already satisfied: transformers<5.0.0,>=4.6.0 in /Users/nanakwame/miniforge3/envs/pyeleven/lib/python3.11/site-packages (from sentence-transformers) (4.31.0)\n",
      "Requirement already satisfied: tqdm in /Users/nanakwame/miniforge3/envs/pyeleven/lib/python3.11/site-packages (from sentence-transformers) (4.65.0)\n",
      "Requirement already satisfied: torch>=1.6.0 in /Users/nanakwame/miniforge3/envs/pyeleven/lib/python3.11/site-packages (from sentence-transformers) (2.0.1)\n",
      "Requirement already satisfied: torchvision in /Users/nanakwame/miniforge3/envs/pyeleven/lib/python3.11/site-packages (from sentence-transformers) (0.15.2)\n",
      "Requirement already satisfied: numpy in /Users/nanakwame/miniforge3/envs/pyeleven/lib/python3.11/site-packages (from sentence-transformers) (1.25.2)\n",
      "Requirement already satisfied: scikit-learn in /Users/nanakwame/miniforge3/envs/pyeleven/lib/python3.11/site-packages (from sentence-transformers) (1.2.2)\n",
      "Requirement already satisfied: scipy in /Users/nanakwame/miniforge3/envs/pyeleven/lib/python3.11/site-packages (from sentence-transformers) (1.11.1)\n",
      "Requirement already satisfied: nltk in /Users/nanakwame/miniforge3/envs/pyeleven/lib/python3.11/site-packages (from sentence-transformers) (3.8.1)\n",
      "Requirement already satisfied: sentencepiece in /Users/nanakwame/miniforge3/envs/pyeleven/lib/python3.11/site-packages (from sentence-transformers) (0.1.99)\n",
      "Requirement already satisfied: huggingface-hub>=0.4.0 in /Users/nanakwame/miniforge3/envs/pyeleven/lib/python3.11/site-packages (from sentence-transformers) (0.15.1)\n",
      "Requirement already satisfied: filelock in /Users/nanakwame/miniforge3/envs/pyeleven/lib/python3.11/site-packages (from huggingface-hub>=0.4.0->sentence-transformers) (3.12.2)\n",
      "Requirement already satisfied: fsspec in /Users/nanakwame/miniforge3/envs/pyeleven/lib/python3.11/site-packages (from huggingface-hub>=0.4.0->sentence-transformers) (2023.6.0)\n",
      "Requirement already satisfied: requests in /Users/nanakwame/miniforge3/envs/pyeleven/lib/python3.11/site-packages (from huggingface-hub>=0.4.0->sentence-transformers) (2.31.0)\n",
      "Requirement already satisfied: pyyaml>=5.1 in /Users/nanakwame/miniforge3/envs/pyeleven/lib/python3.11/site-packages (from huggingface-hub>=0.4.0->sentence-transformers) (6.0)\n",
      "Requirement already satisfied: typing-extensions>=3.7.4.3 in /Users/nanakwame/miniforge3/envs/pyeleven/lib/python3.11/site-packages (from huggingface-hub>=0.4.0->sentence-transformers) (4.6.3)\n",
      "Requirement already satisfied: packaging>=20.9 in /Users/nanakwame/miniforge3/envs/pyeleven/lib/python3.11/site-packages (from huggingface-hub>=0.4.0->sentence-transformers) (23.1)\n",
      "Requirement already satisfied: sympy in /Users/nanakwame/miniforge3/envs/pyeleven/lib/python3.11/site-packages (from torch>=1.6.0->sentence-transformers) (1.12)\n",
      "Requirement already satisfied: networkx in /Users/nanakwame/miniforge3/envs/pyeleven/lib/python3.11/site-packages (from torch>=1.6.0->sentence-transformers) (3.1)\n",
      "Requirement already satisfied: jinja2 in /Users/nanakwame/miniforge3/envs/pyeleven/lib/python3.11/site-packages (from torch>=1.6.0->sentence-transformers) (3.1.2)\n",
      "Requirement already satisfied: regex!=2019.12.17 in /Users/nanakwame/miniforge3/envs/pyeleven/lib/python3.11/site-packages (from transformers<5.0.0,>=4.6.0->sentence-transformers) (2023.6.3)\n",
      "Requirement already satisfied: tokenizers!=0.11.3,<0.14,>=0.11.1 in /Users/nanakwame/miniforge3/envs/pyeleven/lib/python3.11/site-packages (from transformers<5.0.0,>=4.6.0->sentence-transformers) (0.13.3)\n",
      "Requirement already satisfied: safetensors>=0.3.1 in /Users/nanakwame/miniforge3/envs/pyeleven/lib/python3.11/site-packages (from transformers<5.0.0,>=4.6.0->sentence-transformers) (0.3.1)\n",
      "Requirement already satisfied: click in /Users/nanakwame/miniforge3/envs/pyeleven/lib/python3.11/site-packages (from nltk->sentence-transformers) (8.1.3)\n",
      "Requirement already satisfied: joblib in /Users/nanakwame/miniforge3/envs/pyeleven/lib/python3.11/site-packages (from nltk->sentence-transformers) (1.2.0)\n",
      "Requirement already satisfied: threadpoolctl>=2.0.0 in /Users/nanakwame/miniforge3/envs/pyeleven/lib/python3.11/site-packages (from scikit-learn->sentence-transformers) (2.2.0)\n",
      "Requirement already satisfied: pillow!=8.3.*,>=5.3.0 in /Users/nanakwame/miniforge3/envs/pyeleven/lib/python3.11/site-packages (from torchvision->sentence-transformers) (9.5.0)\n",
      "Requirement already satisfied: MarkupSafe>=2.0 in /Users/nanakwame/miniforge3/envs/pyeleven/lib/python3.11/site-packages (from jinja2->torch>=1.6.0->sentence-transformers) (2.1.1)\n",
      "Requirement already satisfied: charset-normalizer<4,>=2 in /Users/nanakwame/miniforge3/envs/pyeleven/lib/python3.11/site-packages (from requests->huggingface-hub>=0.4.0->sentence-transformers) (3.1.0)\n",
      "Requirement already satisfied: idna<4,>=2.5 in /Users/nanakwame/miniforge3/envs/pyeleven/lib/python3.11/site-packages (from requests->huggingface-hub>=0.4.0->sentence-transformers) (3.4)\n",
      "Requirement already satisfied: urllib3<3,>=1.21.1 in /Users/nanakwame/miniforge3/envs/pyeleven/lib/python3.11/site-packages (from requests->huggingface-hub>=0.4.0->sentence-transformers) (1.26.16)\n",
      "Requirement already satisfied: certifi>=2017.4.17 in /Users/nanakwame/miniforge3/envs/pyeleven/lib/python3.11/site-packages (from requests->huggingface-hub>=0.4.0->sentence-transformers) (2023.5.7)\n",
      "Requirement already satisfied: mpmath>=0.19 in /Users/nanakwame/miniforge3/envs/pyeleven/lib/python3.11/site-packages (from sympy->torch>=1.6.0->sentence-transformers) (1.3.0)\n",
      "Note: you may need to restart the kernel to use updated packages.\n"
     ]
    }
   ],
   "source": [
    "pip install sentence-transformers"
   ]
  },
  {
   "cell_type": "code",
   "execution_count": 2,
   "metadata": {},
   "outputs": [
    {
     "name": "stderr",
     "output_type": "stream",
     "text": [
      "/Users/nanakwame/miniforge3/envs/pyeleven/lib/python3.11/site-packages/tqdm/auto.py:21: TqdmWarning: IProgress not found. Please update jupyter and ipywidgets. See https://ipywidgets.readthedocs.io/en/stable/user_install.html\n",
      "  from .autonotebook import tqdm as notebook_tqdm\n"
     ]
    }
   ],
   "source": [
    "from sentence_transformers import SentenceTransformer\n",
    "from sklearn.metrics.pairwise import cosine_similarity"
   ]
  },
  {
   "cell_type": "code",
   "execution_count": 3,
   "metadata": {},
   "outputs": [
    {
     "name": "stdout",
     "output_type": "stream",
     "text": [
      "Sentence: covers for soda cans, Similarity: 0.6066969633102417\n",
      "Sentence: drink covers for cans, Similarity: 0.5975959897041321\n",
      "Sentence: soda covers for cans, Similarity: 0.5877445936203003\n",
      "Sentence: the beverage barricade, Similarity: 0.5664563179016113\n",
      "Sentence: drink shield cans, Similarity: 0.5454329252243042\n",
      "Sentence: can cover soda, Similarity: 0.5271488428115845\n",
      "Sentence: drink tab cover, Similarity: 0.514470636844635\n",
      "Sentence: pop tops for soda cans, Similarity: 0.5028564929962158\n",
      "Sentence: soda can sealers, Similarity: 0.4887167811393738\n",
      "Sentence: drink saver, Similarity: 0.47806796431541443\n",
      "Sentence: soda can top, Similarity: 0.4738205373287201\n",
      "Sentence: protect your drink, Similarity: 0.473285436630249\n",
      "Sentence: lids for soda can, Similarity: 0.4723409414291382\n",
      "Sentence: drink shield opener, Similarity: 0.464617520570755\n",
      "Sentence: tabs to close soda cans, Similarity: 0.46395325660705566\n",
      "Sentence: can drink protector, Similarity: 0.4575849175453186\n",
      "Sentence: can toppers for soda, Similarity: 0.4553171396255493\n",
      "Sentence: can topper for soda, Similarity: 0.4375818371772766\n",
      "Sentence: soda can closer top, Similarity: 0.4361756443977356\n",
      "Sentence: soda can pull tabs, Similarity: 0.41944047808647156\n",
      "Sentence: soda can stopper, Similarity: 0.40100616216659546\n",
      "Sentence: easy soda can opener, Similarity: 0.37382203340530396\n",
      "Sentence: soda can straw, Similarity: 0.3640204071998596\n",
      "Sentence: can of pop cover, Similarity: 0.3611711859703064\n",
      "Sentence: soda can lids to keep carbonation, Similarity: 0.3417619466781616\n",
      "Sentence: beach accessories, Similarity: 0.3240296542644501\n",
      "Sentence: the cappy, Similarity: 0.2959592342376709\n",
      "Sentence: opener for tabs on cans, Similarity: 0.2945801615715027\n",
      "Sentence: pop can protector, Similarity: 0.26425454020500183\n",
      "Sentence: can crusher, Similarity: 0.18256057798862457\n",
      "Sentence: pop tab opener and cover, Similarity: 0.1452983319759369\n",
      "Sentence: easy can opener, Similarity: 0.12993763387203217\n",
      "Sentence: pop tab opener, Similarity: 0.057447388768196106\n"
     ]
    }
   ],
   "source": [
    "def semantic_similarity_search(sentences, query):\n",
    "    model = SentenceTransformer('sentence-transformers/paraphrase-multilingual-MiniLM-L12-v2')\n",
    "    sentence_embeddings = model.encode(sentences)\n",
    "    query_embedding = model.encode([query])\n",
    "\n",
    "    similarity_scores = cosine_similarity(query_embedding, sentence_embeddings)[0]\n",
    "    similarity_scores = list(similarity_scores)\n",
    "\n",
    "    similarity_scores_with_sentences = list(zip(sentences, similarity_scores))\n",
    "    similarity_scores_with_sentences.sort(key=lambda x: x[1], reverse=True)\n",
    "\n",
    "    return similarity_scores_with_sentences\n",
    "\n",
    "\n",
    "\n",
    "# forty of the keywords\n",
    "\n",
    "keywords = [\n",
    "    \"protect your drink\",\"easy soda can opener\",'covers for soda cans','soda can pull tabs','easy can opener','can drink protector','soda can straw',\n",
    "    \"drink shield cans\",\"soda can stopper\",\"can cover soda\",'the cappy','opener for tabs on cans','drink tab cover','soda can lids to keep carbonation','pop can protector',\n",
    "    \"the beverage barricade\",'pop tab opener','drink shield opener','can toppers for soda','beach accessories',\n",
    "    \"soda can sealers\",'pop tops for soda cans','drink saver','can crusher','can of pop cover','tabs to close soda cans',\n",
    "    \"can topper for soda\",'soda covers for cans','drink covers for cans','lids for soda can','soda can closer top','soda can top','pop tab opener and cover'\n",
    "]\n",
    "\n",
    "#\n",
    "\n",
    "asin_name = \"6 Pack - Eucatus - Discount Beverage Barricades - Purple/Blue\"\n",
    "\n",
    "results = semantic_similarity_search(keywords, asin_name)\n",
    "\n",
    "for result in results:\n",
    "    print(f\"Sentence: {result[0]}, Similarity: {result[1]}\")"
   ]
  },
  {
   "cell_type": "code",
   "execution_count": 9,
   "metadata": {},
   "outputs": [],
   "source": [
    "evaluation_data = [\n",
    "\n",
    "    ['6 Pack - Eucatus - Discount Beverage Barricades - Purple/Blue', 'protect your drink'],\n",
    "    ['6 Pack - Eucatus - Discount Beverage Barricades - Purple/Blue', 'easy soda can opener'],\n",
    "    ['6 Pack - Eucatus - Discount Beverage Barricades - Purple/Blue', 'covers for soda cans'],\n",
    "    ['6 Pack - Eucatus - Discount Beverage Barricades - Purple/Blue', 'soda can pull tabs'],\n",
    "    ['6 Pack - Eucatus - Discount Beverage Barricades - Purple/Blue','drink covers for cans'],\n",
    "    ['6 Pack - Eucatus - Discount Beverage Barricades - Purple/Blue', 'the beverage barricade'],\n",
    "    ['6 Pack - Eucatus - Discount Beverage Barricades - Purple/Blue','pop tops for soda cans']\n",
    "    \n",
    "]"
   ]
  },
  {
   "cell_type": "code",
   "execution_count": 5,
   "metadata": {},
   "outputs": [],
   "source": [
    "model = SentenceTransformer('paraphrase-multilingual-MiniLM-L12-v2')"
   ]
  },
  {
   "cell_type": "code",
   "execution_count": 6,
   "metadata": {},
   "outputs": [],
   "source": [
    "sentence_embeddings = [model.encode(pair) for pair in evaluation_data]"
   ]
  },
  {
   "cell_type": "code",
   "execution_count": 7,
   "metadata": {},
   "outputs": [],
   "source": [
    "from sentence_transformers import util\n",
    "\n",
    "similarity_scores = [util.cos_sim(embeddings[0], embeddings[1]) for embeddings in sentence_embeddings]"
   ]
  },
  {
   "cell_type": "code",
   "execution_count": 8,
   "metadata": {},
   "outputs": [
    {
     "name": "stdout",
     "output_type": "stream",
     "text": [
      "Pair 1: Dissimilar\n",
      "Pair 2: Dissimilar\n",
      "Pair 3: Similar\n",
      "Pair 4: Dissimilar\n",
      "Pair 5: Similar\n",
      "Pair 6: Similar\n",
      "Pair 7: Similar\n"
     ]
    }
   ],
   "source": [
    "threshold = 0.5\n",
    "\n",
    "for i, score in enumerate(similarity_scores):\n",
    "    if score >= threshold:\n",
    "        print(f\"Pair {i+1}: Similar\")\n",
    "    else:\n",
    "        print(f\"Pair {i+1}: Dissimilar\")"
   ]
  },
  {
   "cell_type": "code",
   "execution_count": 4,
   "metadata": {},
   "outputs": [],
   "source": [
    "# create a funtion to take a string and return the top 5 similar keywords\n",
    "\n",
    "\n"
   ]
  },
  {
   "cell_type": "code",
   "execution_count": null,
   "metadata": {},
   "outputs": [],
   "source": [
    "from flask import Flask, request, jsonify\n",
    "\n",
    "app = Flask(__name__)\n",
    "\n",
    "@app.route('/compute_similarity', methods=['POST'])\n",
    "def api_compute_similarity():\n",
    "    data = request.get_json()\n",
    "    sentence1 = data.get('sentence1')\n",
    "    sentence2 = data.get('sentence2')\n",
    "    if sentence1 and sentence2:\n",
    "        similarity = compute_similarity(sentence1, sentence2)\n",
    "        return jsonify({'similarity': similarity})\n",
    "    else:\n",
    "        return jsonify({'error': 'Invalid input'})\n",
    "\n",
    "if __name__ == \"__main__\":\n",
    "    app.run(debug=True)\n"
   ]
  },
  {
   "cell_type": "code",
   "execution_count": null,
   "metadata": {},
   "outputs": [],
   "source": []
  }
 ],
 "metadata": {
  "kernelspec": {
   "display_name": "py8",
   "language": "python",
   "name": "python3"
  },
  "language_info": {
   "codemirror_mode": {
    "name": "ipython",
    "version": 3
   },
   "file_extension": ".py",
   "mimetype": "text/x-python",
   "name": "python",
   "nbconvert_exporter": "python",
   "pygments_lexer": "ipython3",
   "version": "3.11.4"
  },
  "orig_nbformat": 4
 },
 "nbformat": 4,
 "nbformat_minor": 2
}
