{
 "cells": [
  {
   "cell_type": "code",
   "execution_count": 1,
   "metadata": {},
   "outputs": [
    {
     "name": "stdout",
     "output_type": "stream",
     "text": [
      "Collecting sentence-transformers\n",
      "  Using cached sentence-transformers-2.2.2.tar.gz (85 kB)\n",
      "  Preparing metadata (setup.py) ... \u001b[?25ldone\n",
      "\u001b[?25hCollecting transformers<5.0.0,>=4.6.0\n",
      "  Using cached transformers-4.32.0-py3-none-any.whl (7.5 MB)\n",
      "Requirement already satisfied: tqdm in /Users/nanakwame/opt/anaconda3/envs/py8/lib/python3.8/site-packages (from sentence-transformers) (4.64.1)\n",
      "Collecting torch>=1.6.0\n",
      "  Using cached torch-2.0.1-cp38-none-macosx_11_0_arm64.whl (55.8 MB)\n",
      "Collecting torchvision\n",
      "  Downloading torchvision-0.15.2-cp38-cp38-macosx_11_0_arm64.whl (1.4 MB)\n",
      "\u001b[2K     \u001b[90m━━━━━━━━━━━━━━━━━━━━━━━━━━━━━━━━━━━━━━━━\u001b[0m \u001b[32m1.4/1.4 MB\u001b[0m \u001b[31m1.3 MB/s\u001b[0m eta \u001b[36m0:00:00\u001b[0ma \u001b[36m0:00:01\u001b[0m0m\n",
      "\u001b[?25hRequirement already satisfied: numpy in /Users/nanakwame/opt/anaconda3/envs/py8/lib/python3.8/site-packages (from sentence-transformers) (1.23.4)\n",
      "Collecting scikit-learn\n",
      "  Downloading scikit_learn-1.3.0-cp38-cp38-macosx_12_0_arm64.whl (9.4 MB)\n",
      "\u001b[2K     \u001b[90m━━━━━━━━━━━━━━━━━━━━━━━━━━━━━━━━━━━━━━━━\u001b[0m \u001b[32m9.4/9.4 MB\u001b[0m \u001b[31m2.7 MB/s\u001b[0m eta \u001b[36m0:00:00\u001b[0m00:01\u001b[0m00:01\u001b[0m\n",
      "\u001b[?25hCollecting scipy\n",
      "  Downloading scipy-1.10.1-cp38-cp38-macosx_12_0_arm64.whl (28.8 MB)\n",
      "\u001b[2K     \u001b[90m━━━━━━━━━━━━━━━━━━━━━━━━━━━━━━━━━━━━━━━━\u001b[0m \u001b[32m28.8/28.8 MB\u001b[0m \u001b[31m3.3 MB/s\u001b[0m eta \u001b[36m0:00:00\u001b[0m00:01\u001b[0m00:01\u001b[0m\n",
      "\u001b[?25hCollecting nltk\n",
      "  Using cached nltk-3.8.1-py3-none-any.whl (1.5 MB)\n",
      "Collecting sentencepiece\n",
      "  Downloading sentencepiece-0.1.99-cp38-cp38-macosx_11_0_arm64.whl (1.2 MB)\n",
      "\u001b[2K     \u001b[90m━━━━━━━━━━━━━━━━━━━━━━━━━━━━━━━━━━━━━━━━\u001b[0m \u001b[32m1.2/1.2 MB\u001b[0m \u001b[31m2.9 MB/s\u001b[0m eta \u001b[36m0:00:00\u001b[0ma \u001b[36m0:00:01\u001b[0m\n",
      "\u001b[?25hCollecting huggingface-hub>=0.4.0\n",
      "  Downloading huggingface_hub-0.16.4-py3-none-any.whl (268 kB)\n",
      "\u001b[2K     \u001b[90m━━━━━━━━━━━━━━━━━━━━━━━━━━━━━━━━━━━━━━━\u001b[0m \u001b[32m268.8/268.8 kB\u001b[0m \u001b[31m2.5 MB/s\u001b[0m eta \u001b[36m0:00:00\u001b[0ma \u001b[36m0:00:01\u001b[0m\n",
      "\u001b[?25hRequirement already satisfied: packaging>=20.9 in /Users/nanakwame/opt/anaconda3/envs/py8/lib/python3.8/site-packages (from huggingface-hub>=0.4.0->sentence-transformers) (21.3)\n",
      "Requirement already satisfied: typing-extensions>=3.7.4.3 in /Users/nanakwame/opt/anaconda3/envs/py8/lib/python3.8/site-packages (from huggingface-hub>=0.4.0->sentence-transformers) (4.4.0)\n",
      "Collecting filelock\n",
      "  Using cached filelock-3.12.2-py3-none-any.whl (10 kB)\n",
      "Collecting pyyaml>=5.1\n",
      "  Downloading PyYAML-6.0.1.tar.gz (125 kB)\n",
      "\u001b[2K     \u001b[90m━━━━━━━━━━━━━━━━━━━━━━━━━━━━━━━━━━━━━━━\u001b[0m \u001b[32m125.2/125.2 kB\u001b[0m \u001b[31m4.6 MB/s\u001b[0m eta \u001b[36m0:00:00\u001b[0m\n",
      "\u001b[?25h  Installing build dependencies ... \u001b[?25ldone\n",
      "\u001b[?25h  Getting requirements to build wheel ... \u001b[?25ldone\n",
      "\u001b[?25h  Preparing metadata (pyproject.toml) ... \u001b[?25ldone\n",
      "\u001b[?25hCollecting fsspec\n",
      "  Using cached fsspec-2023.6.0-py3-none-any.whl (163 kB)\n",
      "Requirement already satisfied: requests in /Users/nanakwame/opt/anaconda3/envs/py8/lib/python3.8/site-packages (from huggingface-hub>=0.4.0->sentence-transformers) (2.28.1)\n",
      "Collecting sympy\n",
      "  Using cached sympy-1.12-py3-none-any.whl (5.7 MB)\n",
      "Requirement already satisfied: jinja2 in /Users/nanakwame/opt/anaconda3/envs/py8/lib/python3.8/site-packages (from torch>=1.6.0->sentence-transformers) (3.1.2)\n",
      "Collecting networkx\n",
      "  Using cached networkx-3.1-py3-none-any.whl (2.1 MB)\n",
      "Collecting tokenizers!=0.11.3,<0.14,>=0.11.1\n",
      "  Downloading tokenizers-0.13.3-cp38-cp38-macosx_12_0_arm64.whl (3.9 MB)\n",
      "\u001b[2K     \u001b[90m━━━━━━━━━━━━━━━━━━━━━━━━━━━━━━━━━━━━━━━━\u001b[0m \u001b[32m3.9/3.9 MB\u001b[0m \u001b[31m2.9 MB/s\u001b[0m eta \u001b[36m0:00:00\u001b[0m00:01\u001b[0m00:01\u001b[0m0m\n",
      "\u001b[?25hCollecting safetensors>=0.3.1\n",
      "  Downloading safetensors-0.3.3-cp38-cp38-macosx_13_0_arm64.whl (407 kB)\n",
      "\u001b[2K     \u001b[90m━━━━━━━━━━━━━━━━━━━━━━━━━━━━━━━━━━━━━━━\u001b[0m \u001b[32m407.8/407.8 kB\u001b[0m \u001b[31m3.0 MB/s\u001b[0m eta \u001b[36m0:00:00\u001b[0ma \u001b[36m0:00:01\u001b[0m\n",
      "\u001b[?25hCollecting regex!=2019.12.17\n",
      "  Downloading regex-2023.8.8-cp38-cp38-macosx_11_0_arm64.whl (289 kB)\n",
      "\u001b[2K     \u001b[90m━━━━━━━━━━━━━━━━━━━━━━━━━━━━━━━━━━━━━━━\u001b[0m \u001b[32m289.2/289.2 kB\u001b[0m \u001b[31m8.6 MB/s\u001b[0m eta \u001b[36m0:00:00\u001b[0m00:01\u001b[0m\n",
      "\u001b[?25hCollecting joblib\n",
      "  Downloading joblib-1.3.2-py3-none-any.whl (302 kB)\n",
      "\u001b[2K     \u001b[90m━━━━━━━━━━━━━━━━━━━━━━━━━━━━━━━━━━━━━━━\u001b[0m \u001b[32m302.2/302.2 kB\u001b[0m \u001b[31m1.5 MB/s\u001b[0m eta \u001b[36m0:00:00\u001b[0m00:01\u001b[0m00:01\u001b[0m\n",
      "\u001b[?25hCollecting click\n",
      "  Downloading click-8.1.7-py3-none-any.whl (97 kB)\n",
      "\u001b[2K     \u001b[90m━━━━━━━━━━━━━━━━━━━━━━━━━━━━━━━━━━━━━━━━\u001b[0m \u001b[32m97.9/97.9 kB\u001b[0m \u001b[31m1.2 MB/s\u001b[0m eta \u001b[36m0:00:00\u001b[0ma \u001b[36m0:00:01\u001b[0m\n",
      "\u001b[?25hCollecting threadpoolctl>=2.0.0\n",
      "  Using cached threadpoolctl-3.2.0-py3-none-any.whl (15 kB)\n",
      "Requirement already satisfied: pillow!=8.3.*,>=5.3.0 in /Users/nanakwame/opt/anaconda3/envs/py8/lib/python3.8/site-packages (from torchvision->sentence-transformers) (9.2.0)\n",
      "Requirement already satisfied: pyparsing!=3.0.5,>=2.0.2 in /Users/nanakwame/opt/anaconda3/envs/py8/lib/python3.8/site-packages (from packaging>=20.9->huggingface-hub>=0.4.0->sentence-transformers) (3.0.9)\n",
      "Requirement already satisfied: MarkupSafe>=2.0 in /Users/nanakwame/opt/anaconda3/envs/py8/lib/python3.8/site-packages (from jinja2->torch>=1.6.0->sentence-transformers) (2.1.1)\n",
      "Requirement already satisfied: idna<4,>=2.5 in /Users/nanakwame/opt/anaconda3/envs/py8/lib/python3.8/site-packages (from requests->huggingface-hub>=0.4.0->sentence-transformers) (3.4)\n",
      "Requirement already satisfied: charset-normalizer<3,>=2 in /Users/nanakwame/opt/anaconda3/envs/py8/lib/python3.8/site-packages (from requests->huggingface-hub>=0.4.0->sentence-transformers) (2.1.1)\n",
      "Requirement already satisfied: certifi>=2017.4.17 in /Users/nanakwame/opt/anaconda3/envs/py8/lib/python3.8/site-packages (from requests->huggingface-hub>=0.4.0->sentence-transformers) (2022.9.24)\n",
      "Requirement already satisfied: urllib3<1.27,>=1.21.1 in /Users/nanakwame/opt/anaconda3/envs/py8/lib/python3.8/site-packages (from requests->huggingface-hub>=0.4.0->sentence-transformers) (1.26.12)\n",
      "Collecting mpmath>=0.19\n",
      "  Using cached mpmath-1.3.0-py3-none-any.whl (536 kB)\n",
      "Building wheels for collected packages: sentence-transformers, pyyaml\n",
      "  Building wheel for sentence-transformers (setup.py) ... \u001b[?25ldone\n",
      "\u001b[?25h  Created wheel for sentence-transformers: filename=sentence_transformers-2.2.2-py3-none-any.whl size=125925 sha256=85464cce41dc545fdf81a195a6f19aad36265015cbad7cfd7b6b3d45aacf4ee3\n",
      "  Stored in directory: /Users/nanakwame/Library/Caches/pip/wheels/30/b4/1c/7509ecb4c391a7be4cdf2ff04df077a568cd52471007e436e6\n",
      "  Building wheel for pyyaml (pyproject.toml) ... \u001b[?25ldone\n",
      "\u001b[?25h  Created wheel for pyyaml: filename=PyYAML-6.0.1-cp38-cp38-macosx_11_0_arm64.whl size=45364 sha256=38f0e3f75e86cc0b63a8c960258ccd7c69bca5b41f2d395fba76c45d89b82ff2\n",
      "  Stored in directory: /Users/nanakwame/Library/Caches/pip/wheels/9d/b7/9a/7ef372e0b499b4094d7c1480775cc76e1007d077634339a634\n",
      "Successfully built sentence-transformers pyyaml\n",
      "Installing collected packages: tokenizers, sentencepiece, safetensors, mpmath, threadpoolctl, sympy, scipy, regex, pyyaml, networkx, joblib, fsspec, filelock, click, torch, scikit-learn, nltk, huggingface-hub, transformers, torchvision, sentence-transformers\n",
      "Successfully installed click-8.1.7 filelock-3.12.2 fsspec-2023.6.0 huggingface-hub-0.16.4 joblib-1.3.2 mpmath-1.3.0 networkx-3.1 nltk-3.8.1 pyyaml-6.0.1 regex-2023.8.8 safetensors-0.3.3 scikit-learn-1.3.0 scipy-1.10.1 sentence-transformers-2.2.2 sentencepiece-0.1.99 sympy-1.12 threadpoolctl-3.2.0 tokenizers-0.13.3 torch-2.0.1 torchvision-0.15.2 transformers-4.32.0\n",
      "Note: you may need to restart the kernel to use updated packages.\n"
     ]
    }
   ],
   "source": [
    "pip install sentence-transformers"
   ]
  },
  {
   "cell_type": "code",
   "execution_count": 2,
   "metadata": {},
   "outputs": [
    {
     "name": "stderr",
     "output_type": "stream",
     "text": [
      "/Users/nanakwame/opt/anaconda3/envs/py8/lib/python3.8/site-packages/tqdm/auto.py:22: TqdmWarning: IProgress not found. Please update jupyter and ipywidgets. See https://ipywidgets.readthedocs.io/en/stable/user_install.html\n",
      "  from .autonotebook import tqdm as notebook_tqdm\n"
     ]
    }
   ],
   "source": [
    "from sentence_transformers import SentenceTransformer\n",
    "from sklearn.metrics.pairwise import cosine_similarity"
   ]
  },
  {
   "cell_type": "code",
   "execution_count": 3,
   "metadata": {},
   "outputs": [
    {
     "name": "stdout",
     "output_type": "stream",
     "text": [
      "Sentence: covers for soda cans, Similarity: 0.6066969633102417\n",
      "Sentence: drink covers for cans, Similarity: 0.5975959897041321\n",
      "Sentence: soda covers for cans, Similarity: 0.5877445936203003\n",
      "Sentence: the beverage barricade, Similarity: 0.5664563179016113\n",
      "Sentence: drink shield cans, Similarity: 0.5454329252243042\n",
      "Sentence: can cover soda, Similarity: 0.5271488428115845\n",
      "Sentence: drink tab cover, Similarity: 0.514470636844635\n",
      "Sentence: pop tops for soda cans, Similarity: 0.5028564929962158\n",
      "Sentence: soda can sealers, Similarity: 0.4887167811393738\n",
      "Sentence: drink saver, Similarity: 0.47806796431541443\n",
      "Sentence: soda can top, Similarity: 0.4738205373287201\n",
      "Sentence: protect your drink, Similarity: 0.473285436630249\n",
      "Sentence: lids for soda can, Similarity: 0.4723409414291382\n",
      "Sentence: drink shield opener, Similarity: 0.464617520570755\n",
      "Sentence: tabs to close soda cans, Similarity: 0.46395325660705566\n",
      "Sentence: can drink protector, Similarity: 0.4575849175453186\n",
      "Sentence: can toppers for soda, Similarity: 0.4553171396255493\n",
      "Sentence: can topper for soda, Similarity: 0.4375818371772766\n",
      "Sentence: soda can closer top, Similarity: 0.4361756443977356\n",
      "Sentence: soda can pull tabs, Similarity: 0.41944047808647156\n",
      "Sentence: soda can stopper, Similarity: 0.40100616216659546\n",
      "Sentence: easy soda can opener, Similarity: 0.37382203340530396\n",
      "Sentence: soda can straw, Similarity: 0.3640204071998596\n",
      "Sentence: can of pop cover, Similarity: 0.3611711859703064\n",
      "Sentence: soda can lids to keep carbonation, Similarity: 0.3417619466781616\n",
      "Sentence: beach accessories, Similarity: 0.3240296542644501\n",
      "Sentence: the cappy, Similarity: 0.2959592342376709\n",
      "Sentence: opener for tabs on cans, Similarity: 0.2945801615715027\n",
      "Sentence: pop can protector, Similarity: 0.26425454020500183\n",
      "Sentence: can crusher, Similarity: 0.18256057798862457\n",
      "Sentence: pop tab opener and cover, Similarity: 0.1452983319759369\n",
      "Sentence: easy can opener, Similarity: 0.12993763387203217\n",
      "Sentence: pop tab opener, Similarity: 0.057447388768196106\n"
     ]
    }
   ],
   "source": [
    "def semantic_similarity_search(sentences, query):\n",
    "    model = SentenceTransformer('sentence-transformers/paraphrase-multilingual-MiniLM-L12-v2')\n",
    "    sentence_embeddings = model.encode(sentences)\n",
    "    query_embedding = model.encode([query])\n",
    "\n",
    "    similarity_scores = cosine_similarity(query_embedding, sentence_embeddings)[0]\n",
    "    similarity_scores = list(similarity_scores)\n",
    "\n",
    "    similarity_scores_with_sentences = list(zip(sentences, similarity_scores))\n",
    "    similarity_scores_with_sentences.sort(key=lambda x: x[1], reverse=True)\n",
    "\n",
    "    return similarity_scores_with_sentences\n",
    "\n",
    "\n",
    "\n",
    "# forty of the keywords\n",
    "\n",
    "keywords = [\n",
    "    \"protect your drink\",\"easy soda can opener\",'covers for soda cans','soda can pull tabs','easy can opener','can drink protector','soda can straw',\n",
    "    \"drink shield cans\",\"soda can stopper\",\"can cover soda\",'the cappy','opener for tabs on cans','drink tab cover','soda can lids to keep carbonation','pop can protector',\n",
    "    \"the beverage barricade\",'pop tab opener','drink shield opener','can toppers for soda','beach accessories',\n",
    "    \"soda can sealers\",'pop tops for soda cans','drink saver','can crusher','can of pop cover','tabs to close soda cans',\n",
    "    \"can topper for soda\",'soda covers for cans','drink covers for cans','lids for soda can','soda can closer top','soda can top','pop tab opener and cover'\n",
    "]\n",
    "\n",
    "#\n",
    "\n",
    "asin_name = \"6 Pack - Eucatus - Discount Beverage Barricades - Purple/Blue\"\n",
    "\n",
    "results = semantic_similarity_search(keywords, asin_name)\n",
    "\n",
    "for result in results:\n",
    "    print(f\"Sentence: {result[0]}, Similarity: {result[1]}\")"
   ]
  },
  {
   "cell_type": "code",
   "execution_count": 4,
   "metadata": {},
   "outputs": [],
   "source": [
    "evaluation_data = [\n",
    "\n",
    "    ['6 Pack - Eucatus - Discount Beverage Barricades - Purple/Blue', 'protect your drink'],\n",
    "    ['6 Pack - Eucatus - Discount Beverage Barricades - Purple/Blue', 'easy soda can opener'],\n",
    "    ['6 Pack - Eucatus - Discount Beverage Barricades - Purple/Blue', 'covers for soda cans'],\n",
    "    ['6 Pack - Eucatus - Discount Beverage Barricades - Purple/Blue', 'soda can pull tabs'],\n",
    "    ['6 Pack - Eucatus - Discount Beverage Barricades - Purple/Blue','drink covers for cans'],\n",
    "    ['6 Pack - Eucatus - Discount Beverage Barricades - Purple/Blue', 'the beverage barricade'],\n",
    "    ['6 Pack - Eucatus - Discount Beverage Barricades - Purple/Blue','pop tops for soda cans']\n",
    "    \n",
    "]"
   ]
  },
  {
   "cell_type": "code",
   "execution_count": 5,
   "metadata": {},
   "outputs": [],
   "source": [
    "model = SentenceTransformer('paraphrase-multilingual-MiniLM-L12-v2')"
   ]
  },
  {
   "cell_type": "code",
   "execution_count": 6,
   "metadata": {},
   "outputs": [],
   "source": [
    "sentence_embeddings = [model.encode(pair) for pair in evaluation_data]"
   ]
  },
  {
   "cell_type": "code",
   "execution_count": 7,
   "metadata": {},
   "outputs": [],
   "source": [
    "from sentence_transformers import util\n",
    "\n",
    "similarity_scores = [util.cos_sim(embeddings[0], embeddings[1]) for embeddings in sentence_embeddings]"
   ]
  },
  {
   "cell_type": "code",
   "execution_count": 8,
   "metadata": {},
   "outputs": [
    {
     "name": "stdout",
     "output_type": "stream",
     "text": [
      "Pair 1: Dissimilar\n",
      "Pair 2: Dissimilar\n",
      "Pair 3: Similar\n",
      "Pair 4: Dissimilar\n",
      "Pair 5: Similar\n",
      "Pair 6: Similar\n",
      "Pair 7: Similar\n"
     ]
    }
   ],
   "source": [
    "threshold = 0.5\n",
    "\n",
    "for i, score in enumerate(similarity_scores):\n",
    "    if score >= threshold:\n",
    "        print(f\"Pair {i+1}: Similar\")\n",
    "    else:\n",
    "        print(f\"Pair {i+1}: Dissimilar\")"
   ]
  }
 ],
 "metadata": {
  "kernelspec": {
   "display_name": "py8",
   "language": "python",
   "name": "python3"
  },
  "language_info": {
   "codemirror_mode": {
    "name": "ipython",
    "version": 3
   },
   "file_extension": ".py",
   "mimetype": "text/x-python",
   "name": "python",
   "nbconvert_exporter": "python",
   "pygments_lexer": "ipython3",
   "version": "3.8.15"
  },
  "orig_nbformat": 4
 },
 "nbformat": 4,
 "nbformat_minor": 2
}
